{
 "cells": [
  {
   "cell_type": "code",
   "execution_count": null,
   "id": "6fad10c9-cd38-4722-a270-9b5c870bc25d",
   "metadata": {},
   "outputs": [],
   "source": [
    "import numpy as np\n",
    "import cv2"
   ]
  },
  {
   "cell_type": "code",
   "execution_count": null,
   "id": "344af288-bafc-42ac-b1b4-b412596d8bac",
   "metadata": {},
   "outputs": [],
   "source": [
    "# Images loading with the size check \n",
    "outer_img = cv2.imread(\"background1.jpg\")\n",
    "inner_img = cv2.imread(\"wormhole_view.jpg\")\n",
    "\n",
    "# Size check\n",
    "if outer_img.shape != inner_img.shape:\n",
    "    inner_img = cv2.resize(inner_img, (outer_img.shape[1], outer_img.shape[0]))\n",
    "\n",
    "# Parameters\n",
    "center = (outer_img.shape[1] // 2, outer_img.shape[0] // 2)\n",
    "\n",
    "h, w = outer_img.shape[:2]\n",
    "y, x = np.ogrid[:h, :w]"
   ]
  },
  {
   "cell_type": "code",
   "execution_count": null,
   "id": "5b2970eb-60b1-4394-82c0-bc769efd5b94",
   "metadata": {},
   "outputs": [],
   "source": [
    "# Wormhole region mask (r <= b)\n",
    "b = 4\n",
    "\n",
    "strength = 300\n",
    "\n",
    "mask = (x - center[0])**2 + (y - center[1])**2 <= (b*strength)**2\n",
    "\n",
    "# Polar coordinates\n",
    "dx = x - center[0]\n",
    "dy = y - center[1]\n",
    "r = np.sqrt(dx**2 + dy**2)\n",
    "theta = np.arctan2(dy, dx)"
   ]
  },
  {
   "cell_type": "code",
   "execution_count": null,
   "id": "7eb9d9fb-349e-4b2c-92fa-141c1b80c58c",
   "metadata": {},
   "outputs": [
    {
     "name": "stderr",
     "output_type": "stream",
     "text": [
      "C:\\Users\\Alexander\\AppData\\Local\\Temp\\ipykernel_14828\\1758084928.py:2: RuntimeWarning: invalid value encountered in sqrt\n",
      "  r_outer = (b*strength) * np.log(r / (b*strength) + np.sqrt((r / (b*strength))**2 - 1 + 1e-10))\n",
      "C:\\Users\\Alexander\\AppData\\Local\\Temp\\ipykernel_14828\\1758084928.py:14: RuntimeWarning: divide by zero encountered in divide\n",
      "  r_inner = np.where(r < b*strength, np.where(r > 5, (b*strength)**2 / r, 0), r)\n"
     ]
    }
   ],
   "source": [
    "# Radius distortion for the OUTER image \n",
    "r_outer = (b*strength) * np.log(r / (b*strength) + np.sqrt((r / (b*strength))**2 - 1 + 1e-10))\n",
    "\n",
    "# k = b / r_t \n",
    "# phi = np.arccos(r_t*strength / r)\n",
    "# integral = np.zeros_like(r)\n",
    "# for i in range(len(r[:,0])):\n",
    "#     for j in range(len(r[0,:])):\n",
    "#         integral[i,j] = ellipkinc(phi[i,j], k**2)\n",
    "# r_outer = r_t*strength/k*integral\n",
    "r_outer = np.nan_to_num(r_outer)\n",
    "\n",
    "# Radius distortion for the INNER image \n",
    "r_inner = np.where(r < b*strength, np.where(r > 5, (b*strength)**2 / r, 0), r)"
   ]
  },
  {
   "cell_type": "code",
   "execution_count": null,
   "id": "6fb7c539-e26e-408e-94c0-cd1d76f0d3ab",
   "metadata": {},
   "outputs": [
    {
     "data": {
      "text/plain": [
       "True"
      ]
     },
     "execution_count": 121,
     "metadata": {},
     "output_type": "execute_result"
    }
   ],
   "source": [
    "# New coordinates with borders check \n",
    "def safe_coords(r_dist, phi):\n",
    "    x_new = center[0] + r_dist * np.cos(theta)\n",
    "    y_new = center[1] + r_dist * np.sin(theta)\n",
    "    x_new = np.clip(x_new, 0, w-1).astype(int)\n",
    "    y_new = np.clip(y_new, 0, h-1).astype(int)\n",
    "    return y_new, x_new\n",
    "\n",
    "y_outer, x_outer = safe_coords(r_outer, theta)\n",
    "y_inner, x_inner = safe_coords(r_inner, theta)\n",
    "\n",
    "# Creating a result\n",
    "result = outer_img.copy()\n",
    "\n",
    "# Outer part (neat indexing) \n",
    "outer_pixels = outer_img[y_outer, x_outer]\n",
    "result[~mask] = outer_pixels[~mask]\n",
    "\n",
    "# Inner part (with mask check)\n",
    "inner_pixels = inner_img[\n",
    "    np.clip(y_inner[mask], 0, inner_img.shape[0]-1),\n",
    "    np.clip(x_inner[mask], 0, inner_img.shape[1]-1)\n",
    "]\n",
    "result[mask] = inner_pixels\n",
    "\n",
    "# Saving\n",
    "cv2.imwrite(\"figures\\\\baikal_galaxy_b=4.jpg\", result)"
   ]
  },
  {
   "cell_type": "code",
   "execution_count": 7,
   "id": "856f060f-ed40-4efd-9406-1112d2c84ef3",
   "metadata": {},
   "outputs": [
    {
     "data": {
      "text/plain": [
       "482"
      ]
     },
     "execution_count": 7,
     "metadata": {},
     "output_type": "execute_result"
    }
   ],
   "source": [
    "r_t"
   ]
  },
  {
   "cell_type": "code",
   "execution_count": null,
   "id": "446ea077-21f9-469c-8884-3ef26eb7264a",
   "metadata": {},
   "outputs": [],
   "source": []
  }
 ],
 "metadata": {
  "kernelspec": {
   "display_name": "Python 3 (ipykernel)",
   "language": "python",
   "name": "python3"
  },
  "language_info": {
   "codemirror_mode": {
    "name": "ipython",
    "version": 3
   },
   "file_extension": ".py",
   "mimetype": "text/x-python",
   "name": "python",
   "nbconvert_exporter": "python",
   "pygments_lexer": "ipython3",
   "version": "3.12.2"
  }
 },
 "nbformat": 4,
 "nbformat_minor": 5
}
